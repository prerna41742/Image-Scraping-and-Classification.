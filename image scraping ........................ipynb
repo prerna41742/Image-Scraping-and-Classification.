{
 "cells": [
  {
   "cell_type": "code",
   "execution_count": 1,
   "metadata": {},
   "outputs": [],
   "source": [
    "# Importing Libraries\n",
    "import selenium\n",
    "import pandas as pd\n",
    "import time\n",
    "\n",
    "import os\n",
    "import shutil\n",
    "import requests\n",
    "\n",
    "# Importing selenium webdriver \n",
    "from selenium import webdriver\n",
    "\n",
    "# Importing required Exceptions which needs to handled\n",
    "from selenium.common.exceptions import StaleElementReferenceException, NoSuchElementException"
   ]
  },
  {
   "cell_type": "code",
   "execution_count": 2,
   "metadata": {},
   "outputs": [],
   "source": [
    "# function to create a directory\n",
    "\n",
    "def directory(folder):\n",
    "    img_dir = os.path.join(os.getcwd(), folder)\n",
    "    if not os.path.exists(img_dir):\n",
    "        os.makedirs(img_dir)\n",
    "        \n",
    "    return folder"
   ]
  },
  {
   "cell_type": "code",
   "execution_count": 3,
   "metadata": {},
   "outputs": [],
   "source": [
    "# Calling the above function\n",
    "\n",
    "folder = directory(\"data2\")"
   ]
  },
  {
   "cell_type": "code",
   "execution_count": 4,
   "metadata": {},
   "outputs": [],
   "source": [
    "# Function for scraping, downloading and storing the required images/data.\n",
    "\n",
    "def images(url,folder):\n",
    "\n",
    "    driver=webdriver.Edge(r'C:\\Users\\satvi\\Downloads\\edgedriver_win64\\msedgedriver')\n",
    "    amazon_url = driver.get(url)\n",
    "    \n",
    "    time.sleep(3)\n",
    "\n",
    "    # Locating the search bar\n",
    "    search_bar = driver.find_element_by_id(\"twotabsearchtextbox\")\n",
    "    search_bar.clear()\n",
    "    category = input('Search Category : ')\n",
    "    search_bar.send_keys(category)\n",
    "\n",
    "    #locating the button and clicking it to search the category\n",
    "    button = driver.find_element_by_id('nav-search-submit-button')\n",
    "    button.click()\n",
    "\n",
    "    time.sleep(3)\n",
    "    \n",
    "    # Creating empty list fto sotre data\n",
    "    image_urls = []\n",
    "    \n",
    "    # Loop for iterating the pages and thus scraping the images\n",
    "    for page in range(1, 7):\n",
    "        print('\\nPage', page)\n",
    "        \n",
    "        time.sleep(3)\n",
    "\n",
    "        # Giving path of the images to be scrapped\n",
    "        images = driver.find_elements_by_xpath(\"//img[@class = 's-image']\")\n",
    "\n",
    "        # Getting the source/link of the images.\n",
    "        for img in images:\n",
    "            source = img.get_attribute('src')\n",
    "            image_urls.append(source)\n",
    "            \n",
    "        # Downloading the images and saving the same in the respective directory.\n",
    "        for i, image_link in enumerate(image_urls):\n",
    "            response = requests.get(image_link)\n",
    "\n",
    "            # Downloading the images\n",
    "            image_name = folder + '/' + category + '_' + str(i+1) + '.jpg'\n",
    "            with open(image_name, 'wb') as file:\n",
    "                file.write(response.content)\n",
    "\n",
    "        time.sleep(3)\n",
    "            \n",
    "        print(\"Downloads of images from Page\", page, \"is completed! \\n\")\n",
    "        \n",
    "        time.sleep(3)\n",
    "\n",
    "        # Moving to the next page.\n",
    "        next_page = driver.find_element_by_xpath(\"//li[@class = 'a-last']/a\")\n",
    "        next_page.click()\n",
    "        \n",
    "    print(\"Total images downlaoded of\", str(category), \": \", len(image_urls))"
   ]
  },
  {
   "cell_type": "code",
   "execution_count": 6,
   "metadata": {},
   "outputs": [
    {
     "name": "stdout",
     "output_type": "stream",
     "text": [
      "Search Category : sarees\n",
      "\n",
      "Page 1\n",
      "Downloads of images from Page 1 is completed! \n",
      "\n",
      "\n",
      "Page 2\n",
      "Downloads of images from Page 2 is completed! \n",
      "\n",
      "\n",
      "Page 3\n",
      "Downloads of images from Page 3 is completed! \n",
      "\n",
      "\n",
      "Page 4\n",
      "Downloads of images from Page 4 is completed! \n",
      "\n",
      "\n",
      "Page 5\n",
      "Downloads of images from Page 5 is completed! \n",
      "\n",
      "\n",
      "Page 6\n",
      "Downloads of images from Page 6 is completed! \n",
      "\n",
      "Total images downlaoded of sarees :  298\n"
     ]
    }
   ],
   "source": [
    "# Calling the function and scraping the 'Sarees(women)' category images.\n",
    "\n",
    "images(\"https://www.amazon.com/\",folder)"
   ]
  },
  {
   "cell_type": "code",
   "execution_count": 8,
   "metadata": {},
   "outputs": [
    {
     "name": "stdout",
     "output_type": "stream",
     "text": [
      "Search Category : men trousers\n",
      "\n",
      "Page 1\n",
      "Downloads of images from Page 1 is completed! \n",
      "\n",
      "\n",
      "Page 2\n",
      "Downloads of images from Page 2 is completed! \n",
      "\n",
      "\n",
      "Page 3\n",
      "Downloads of images from Page 3 is completed! \n",
      "\n",
      "\n",
      "Page 4\n",
      "Downloads of images from Page 4 is completed! \n",
      "\n",
      "\n",
      "Page 5\n",
      "Downloads of images from Page 5 is completed! \n",
      "\n",
      "\n",
      "Page 6\n",
      "Downloads of images from Page 6 is completed! \n",
      "\n",
      "Total images downlaoded of men trousers :  360\n"
     ]
    }
   ],
   "source": [
    "# Calling the function and scraping the 'men(trousers)' category images.\n",
    "\n",
    "images(\"https://www.amazon.com/\", folder)"
   ]
  },
  {
   "cell_type": "code",
   "execution_count": 10,
   "metadata": {},
   "outputs": [
    {
     "name": "stdout",
     "output_type": "stream",
     "text": [
      "Search Category : men jeans\n",
      "\n",
      "Page 1\n",
      "Downloads of images from Page 1 is completed! \n",
      "\n",
      "\n",
      "Page 2\n",
      "Downloads of images from Page 2 is completed! \n",
      "\n",
      "\n",
      "Page 3\n",
      "Downloads of images from Page 3 is completed! \n",
      "\n",
      "\n",
      "Page 4\n",
      "Downloads of images from Page 4 is completed! \n",
      "\n",
      "\n",
      "Page 5\n",
      "Downloads of images from Page 5 is completed! \n",
      "\n",
      "\n",
      "Page 6\n",
      "Downloads of images from Page 6 is completed! \n",
      "\n",
      "Total images downlaoded of men jeans :  339\n"
     ]
    }
   ],
   "source": [
    "# Calling the function and scraping the 'Men Jeans' category images.\n",
    "\n",
    "images(\"https://www.amazon.com/\", folder)"
   ]
  }
 ],
 "metadata": {
  "kernelspec": {
   "display_name": "Python 3 (ipykernel)",
   "language": "python",
   "name": "python3"
  },
  "language_info": {
   "codemirror_mode": {
    "name": "ipython",
    "version": 3
   },
   "file_extension": ".py",
   "mimetype": "text/x-python",
   "name": "python",
   "nbconvert_exporter": "python",
   "pygments_lexer": "ipython3",
   "version": "3.9.7"
  }
 },
 "nbformat": 4,
 "nbformat_minor": 4
}
